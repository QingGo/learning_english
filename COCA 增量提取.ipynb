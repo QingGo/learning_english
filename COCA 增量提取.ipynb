{
 "cells": [
  {
   "cell_type": "code",
   "execution_count": 6,
   "id": "837793a4",
   "metadata": {},
   "outputs": [
    {
     "name": "stdout",
     "output_type": "stream",
     "text": [
      "{'120个常见英语词根': 1639269089730, 'COCA-高频词汇(OTF)': 1636003078736, 'COCA-高频词汇(OTF)::coca ~ 2000': 1636003078737, 'COCA-高频词汇(OTF)::coca ~ 4000': 1636003078828, 'COCA-高频词汇(OTF)::coca ~ 6000': 1636003078938, 'TOEFL词汇词根+联想记忆法：乱序版': 1639269105629, 'video_words': 1638602251911, '增量阅读': 1639270047389, '默认': 1}\n"
     ]
    }
   ],
   "source": [
    "'''\n",
    "依赖 anki-connect 项目提供的接口：https://github.com/FooSoft/anki-connect\n",
    "'''\n",
    "import json\n",
    "import urllib.request\n",
    "\n",
    "\n",
    "def request(action, **params):\n",
    "    return {'action': action, 'params': params, 'version': 6}\n",
    "\n",
    "\n",
    "def invoke(action, **params):\n",
    "    requestJson = json.dumps(request(action, **params)).encode('utf-8')\n",
    "    response = json.load(\n",
    "        urllib.request.urlopen(\n",
    "            urllib.request.Request('http://localhost:8765', requestJson)))\n",
    "    if len(response) != 2:\n",
    "        raise Exception('response has an unexpected number of fields')\n",
    "    if 'error' not in response:\n",
    "        raise Exception('response is missing required error field')\n",
    "    if 'result' not in response:\n",
    "        raise Exception('response is missing required result field')\n",
    "    if response['error'] is not None:\n",
    "        raise Exception(response['error'])\n",
    "    return response['result']\n",
    "\n",
    "print(invoke('deckNamesAndIds'))"
   ]
  },
  {
   "cell_type": "code",
   "execution_count": 7,
   "id": "a58c0a8f",
   "metadata": {},
   "outputs": [],
   "source": [
    "card_id_list = invoke('findCards', **{\"query\": r'deck:\"COCA-高频词汇(OTF)\"'})\n",
    "card_info_list = invoke('cardsInfo', **{\"cards\": card_id_list})"
   ]
  },
  {
   "cell_type": "code",
   "execution_count": 8,
   "id": "4d67489f",
   "metadata": {},
   "outputs": [],
   "source": [
    "word_list = [card_info[\"fields\"][\"word\"][\"value\"] for card_info in card_info_list]\n",
    "word_set = set(word.lower() for word in word_list)"
   ]
  },
  {
   "cell_type": "code",
   "execution_count": 9,
   "id": "b5879970",
   "metadata": {},
   "outputs": [],
   "source": [
    "# 读取 coca 60000\n",
    "import pandas as pd\n",
    "coca_60000_df = pd.read_excel('miscs/COCA60000.xlsx')  "
   ]
  },
  {
   "cell_type": "code",
   "execution_count": 10,
   "id": "5a20a368",
   "metadata": {},
   "outputs": [
    {
     "data": {
      "text/plain": [
       "Index(['RANK #', 'PoS', '#WORD', 'TOTAL', 'SPOKEN', 'FICTION', 'MAGAZINE',\n",
       "       'NEWSPAPER', 'ACADEMIC'],\n",
       "      dtype='object')"
      ]
     },
     "execution_count": 10,
     "metadata": {},
     "output_type": "execute_result"
    }
   ],
   "source": [
    "coca_60000_df.columns"
   ]
  },
  {
   "cell_type": "code",
   "execution_count": 11,
   "id": "a593405e",
   "metadata": {},
   "outputs": [],
   "source": [
    "columns = ['TOTAL', 'SPOKEN', 'FICTION', 'MAGAZINE','NEWSPAPER', 'ACADEMIC']\n",
    "rank_columns = ['RANK #']\n",
    "for column in ['TOTAL', 'SPOKEN', 'FICTION', 'MAGAZINE','NEWSPAPER', 'ACADEMIC']:\n",
    "    rank_column = f'{column}_RANK'\n",
    "    rank_columns.append(rank_column)\n",
    "    coca_60000_df[rank_column] = coca_60000_df[column].rank(ascending=False)"
   ]
  },
  {
   "cell_type": "code",
   "execution_count": 14,
   "id": "ca26b2c1",
   "metadata": {},
   "outputs": [],
   "source": [
    "cnt = 0\n",
    "def is_not_old_words_filter(row) -> bool:\n",
    "    if row[\"#WORD\"].lower() in word_set:\n",
    "        return False\n",
    "    return True\n",
    "    \n",
    "coca_60000_df[\"#WORD\"] = coca_60000_df[\"#WORD\"].astype('str')\n",
    "coca_60000_df_unmemorized = coca_60000_df[coca_60000_df.apply(is_not_old_words_filter, axis=1)]\n",
    "new_2000_words_df = coca_60000_df_unmemorized[coca_60000_df_unmemorized[\"RANK #\"] > 6000].iloc[:2000, :]\n"
   ]
  },
  {
   "cell_type": "code",
   "execution_count": null,
   "id": "f8dff314",
   "metadata": {},
   "outputs": [],
   "source": [
    "# 依赖项目 https://github.com/skywind3000/ecdict\n",
    "# 放在 miscs/ECDICT 下\n",
    "from miscs.ECDICT.stardict import LemmaDB, DictCsv\n",
    "\n",
    "lemma = LemmaDB()\n",
    "lemma.load('miscs/ECDICT/lemma.en.txt')\n",
    "ecdict = DictCsv('miscs/ECDICT/ecdict.csv')"
   ]
  },
  {
   "cell_type": "code",
   "execution_count": 48,
   "id": "c3eabe24",
   "metadata": {},
   "outputs": [
    {
     "name": "stdout",
     "output_type": "stream",
     "text": [
      "没有查到 three-year\n",
      "没有查到 nineteenth-century\n",
      "没有查到 sauté\n"
     ]
    }
   ],
   "source": [
    "word_info_tuple_list = []\n",
    "\n",
    "for _, row in new_2000_words_df.iterrows():\n",
    "    # info_list = [f\"PoS: {row['PoS']}\"]\n",
    "    info_list = []\n",
    "    for column in rank_columns:\n",
    "        info_list.append(f\"{column.lower().strip('# ')}: {row[column]}\")\n",
    "    info = ' | '.join(info_list)\n",
    "    word = row[\"#WORD\"].lower()\n",
    "    result = ecdict.query(word)\n",
    "    if result is None:\n",
    "        print(f\"没有查到 {word}\")\n",
    "    else:\n",
    "        word_info_tuple_list.append((word, info, result))"
   ]
  },
  {
   "cell_type": "code",
   "execution_count": 49,
   "id": "ad9dcbc9",
   "metadata": {},
   "outputs": [
    {
     "data": {
      "text/plain": [
       "1997"
      ]
     },
     "execution_count": 49,
     "metadata": {},
     "output_type": "execute_result"
    }
   ],
   "source": [
    "len(word_info_tuple_list)"
   ]
  },
  {
   "cell_type": "code",
   "execution_count": 50,
   "id": "2afe2f28",
   "metadata": {},
   "outputs": [
    {
     "data": {
      "text/plain": [
       "[('postwar',\n",
       "  'rank: 6006 | total_rank: 6223.0 | spoken_rank: 7280.5 | fiction_rank: 15495.0 | magazine_rank: 6326.0 | newspaper_rank: 6396.5 | academic_rank: 3702.0',\n",
       "  {'id': 546268,\n",
       "   'sw': 'postwar',\n",
       "   'word': 'postwar',\n",
       "   'phonetic': \"'pәust'wɒ:\",\n",
       "   'definition': 'a. belonging to the period after a war',\n",
       "   'translation': 'a. 战后的',\n",
       "   'pos': '',\n",
       "   'collins': 2,\n",
       "   'oxford': 0,\n",
       "   'tag': 'toefl',\n",
       "   'bnc': 9300,\n",
       "   'frq': 5928,\n",
       "   'exchange': '',\n",
       "   'detail': None,\n",
       "   'audio': ''}),\n",
       " ('good-bye',\n",
       "  'rank: 6037 | total_rank: 3062.0 | spoken_rank: 2365.0 | fiction_rank: 1291.0 | magazine_rank: 3683.0 | newspaper_rank: 3892.0 | academic_rank: 10146.0',\n",
       "  {'id': 300188,\n",
       "   'sw': 'goodbye',\n",
       "   'word': 'good-bye',\n",
       "   'phonetic': \"'^ud'bai\",\n",
       "   'definition': 'n a farewell remark',\n",
       "   'translation': 'interj. 再见, 再会\\nn. 告别',\n",
       "   'pos': '',\n",
       "   'collins': 0,\n",
       "   'oxford': 0,\n",
       "   'tag': '',\n",
       "   'bnc': 0,\n",
       "   'frq': 0,\n",
       "   'exchange': 's:good-byes',\n",
       "   'detail': None,\n",
       "   'audio': ''}),\n",
       " ('socioeconomic',\n",
       "  'rank: 6209 | total_rank: 5960.0 | spoken_rank: 12564.5 | fiction_rank: 25728.0 | magazine_rank: 13125.5 | newspaper_rank: 12117.5 | academic_rank: 2347.0',\n",
       "  {'id': 644780,\n",
       "   'sw': 'socioeconomic',\n",
       "   'word': 'socioeconomic',\n",
       "   'phonetic': \"'sәuʃiәu,i:kә'nɔmik\",\n",
       "   'definition': 'a. involving social as well as economic factors',\n",
       "   'translation': 'a. 社会经济学的',\n",
       "   'pos': '',\n",
       "   'collins': 0,\n",
       "   'oxford': 0,\n",
       "   'tag': '',\n",
       "   'bnc': 16874,\n",
       "   'frq': 6127,\n",
       "   'exchange': 's:socioeconomics',\n",
       "   'detail': None,\n",
       "   'audio': ''}),\n",
       " ('prime-time',\n",
       "  'rank: 6787 | total_rank: 3236.5 | spoken_rank: 1014.0 | fiction_rank: 16120.5 | magazine_rank: 5415.5 | newspaper_rank: 3010.0 | academic_rank: 18135.5',\n",
       "  {'id': 553541,\n",
       "   'sw': 'primetime',\n",
       "   'word': 'prime-time',\n",
       "   'phonetic': \"'praim'taim\",\n",
       "   'definition': '',\n",
       "   'translation': 'a. 黄金时间的',\n",
       "   'pos': '',\n",
       "   'collins': 0,\n",
       "   'oxford': 0,\n",
       "   'tag': '',\n",
       "   'bnc': 0,\n",
       "   'frq': 0,\n",
       "   'exchange': '',\n",
       "   'detail': None,\n",
       "   'audio': ''}),\n",
       " ('erode',\n",
       "  'rank: 6921 | total_rank: 7394.0 | spoken_rank: 7076.0 | fiction_rank: 11969.5 | magazine_rank: 7147.0 | newspaper_rank: 6849.0 | academic_rank: 5556.5',\n",
       "  {'id': 237717,\n",
       "   'sw': 'erode',\n",
       "   'word': 'erode',\n",
       "   'phonetic': \"i'rәud\",\n",
       "   'definition': 'v. become ground down or deteriorate\\nv. remove soil or rock',\n",
       "   'translation': 'vt. 腐蚀, 侵蚀\\nvi. 受腐蚀',\n",
       "   'pos': '',\n",
       "   'collins': 2,\n",
       "   'oxford': 0,\n",
       "   'tag': 'toefl',\n",
       "   'bnc': 7591,\n",
       "   'frq': 6821,\n",
       "   'exchange': 'd:eroded/p:eroded/3:erodes/i:eroding',\n",
       "   'detail': None,\n",
       "   'audio': ''})]"
      ]
     },
     "execution_count": 50,
     "metadata": {},
     "output_type": "execute_result"
    }
   ],
   "source": [
    "word_info_tuple_list[:5]"
   ]
  },
  {
   "cell_type": "code",
   "execution_count": 46,
   "id": "6f664a6f",
   "metadata": {},
   "outputs": [
    {
     "data": {
      "text/plain": [
       "1641056078057"
      ]
     },
     "execution_count": 46,
     "metadata": {},
     "output_type": "execute_result"
    }
   ],
   "source": [
    "invoke('createDeck', **{\"deck\": r'\"coca ~ 8000\"'})"
   ]
  },
  {
   "cell_type": "code",
   "execution_count": 51,
   "id": "9f438583",
   "metadata": {},
   "outputs": [],
   "source": [
    "with open(\"miscs/words.txt\", 'w') as f:\n",
    "    for word_info_tuple in word_info_tuple_list:\n",
    "        audio_url = \"https://dict.youdao.com/dictvoice?audio=\" + word_info_tuple[0]\n",
    "        info_list = [word_info_tuple[0],\n",
    "                     word_info_tuple[2]['translation'],\n",
    "                     word_info_tuple[2]['phonetic'],\n",
    "                     audio_url,\n",
    "                     word_info_tuple[2]['definition'],\n",
    "                     word_info_tuple[2]['tag'],\n",
    "                     word_info_tuple[2]['frq'],\n",
    "                     word_info_tuple[2]['bnc'],\n",
    "                     word_info_tuple[2]['exchange'],\n",
    "                     word_info_tuple[1],\n",
    "                    ]\n",
    "        f.writelines('\\t'.join(str(i).replace('\\n', ' ') for i in info_list) + '\\n')"
   ]
  },
  {
   "cell_type": "code",
   "execution_count": null,
   "id": "a4dc2759",
   "metadata": {},
   "outputs": [],
   "source": []
  }
 ],
 "metadata": {
  "kernelspec": {
   "display_name": "Python 3 (ipykernel)",
   "language": "python",
   "name": "python3"
  },
  "language_info": {
   "codemirror_mode": {
    "name": "ipython",
    "version": 3
   },
   "file_extension": ".py",
   "mimetype": "text/x-python",
   "name": "python",
   "nbconvert_exporter": "python",
   "pygments_lexer": "ipython3",
   "version": "3.8.2"
  }
 },
 "nbformat": 4,
 "nbformat_minor": 5
}
