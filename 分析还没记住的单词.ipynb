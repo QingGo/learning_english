{
 "cells": [
  {
   "cell_type": "code",
   "execution_count": 1,
   "id": "9d10d3bf",
   "metadata": {},
   "outputs": [],
   "source": [
    "from collections import Counter\n",
    "import pandas as pd\n",
    "import sqlite3\n",
    "from IPython.display import display, Audio, Video, HTML"
   ]
  },
  {
   "cell_type": "code",
   "execution_count": 2,
   "id": "c9d075d4",
   "metadata": {},
   "outputs": [],
   "source": [
    "# export from anki app and unzip it\n",
    "cnx = sqlite3.connect('miscs/collection.anki21')\n",
    "df_dict = {}\n",
    "for table_name in ['cards', 'col', 'graves', 'notes', 'revlog']:\n",
    "    df = pd.read_sql_query(f\"SELECT * FROM {table_name}\", cnx)\n",
    "    df_dict[table_name] = df"
   ]
  },
  {
   "cell_type": "code",
   "execution_count": 3,
   "id": "f1d0bf88",
   "metadata": {},
   "outputs": [],
   "source": [
    "words_with_queue_df = df_dict['cards'].join(df_dict['notes'], lsuffix='_cards', rsuffix='_notes')[[\"queue\", \"sfld\"]]\n",
    "learned_set = set(word.lower() for word in words_with_queue_df[words_with_queue_df[\"queue\"] != 0][\"sfld\"])"
   ]
  },
  {
   "cell_type": "markdown",
   "id": "d78a4eaf",
   "metadata": {},
   "source": [
    "``` shell\n",
    "pip3 install youtube-dl\n",
    "youtube-dl --proxy socks5://127.0.0.1:1086 --write-sub --sub-lang en --skip-download https://www.youtube.com/watch?v=ZNG7g83lI-s --output \"miscs/youtube1\"\n",
    "```"
   ]
  },
  {
   "cell_type": "code",
   "execution_count": 39,
   "id": "779d761b",
   "metadata": {
    "scrolled": false
   },
   "outputs": [
    {
     "name": "stdout",
     "output_type": "stream",
     "text": [
      "miscs/youtube.en.vtt\n",
      "miscs/youtube1.en.vtt\n",
      "miscs/youtube2.en.vtt\n"
     ]
    }
   ],
   "source": [
    "# import nltk\n",
    "# nltk.set_proxy('http://127.0.0.1:1087')\n",
    "# nltk.download('punkt')\n",
    "# nltk.download('wordnet')\n",
    "# nltk.download('stopwords')\n",
    "\n",
    "import string\n",
    "import glob\n",
    "from nltk.corpus import stopwords\n",
    "from nltk.tokenize import word_tokenize\n",
    "from nltk.stem.porter import PorterStemmer\n",
    "from nltk.stem import WordNetLemmatizer \n",
    "\n",
    "\n",
    "porter_stemmer  = PorterStemmer()\n",
    "bad_words = ['-->','</c>'] \n",
    "all_words = []\n",
    "stop_words = set(stopwords.words('english'))\n",
    "\n",
    "lemma = WordNetLemmatizer()\n",
    "for filename in glob.glob(\"miscs/*.vtt\"):\n",
    "    print(filename)\n",
    "    with open(filename) as oldfile:\n",
    "        for line in oldfile:\n",
    "            if not any(bad_word in line for bad_word in bad_words):\n",
    "                for word in word_tokenize(line):\n",
    "                    word_n = lemma.lemmatize(word.lower(),'v')\n",
    "                    word_n = lemma.lemmatize(word_n,'n')\n",
    "                    if word_n not in learned_set and word_n not in stop_words:\n",
    "                        if word_n in string.punctuation or len(word_n) < 3 or \"'\" in word_n or \".\" in word_n:\n",
    "                            continue\n",
    "                        all_words.append(word_n)"
   ]
  },
  {
   "cell_type": "code",
   "execution_count": 40,
   "id": "2b1e968e",
   "metadata": {},
   "outputs": [
    {
     "data": {
      "text/plain": [
       "'derailleurs'"
      ]
     },
     "execution_count": 40,
     "metadata": {},
     "output_type": "execute_result"
    }
   ],
   "source": [
    "lemma.lemmatize('derailleurs')"
   ]
  },
  {
   "cell_type": "code",
   "execution_count": 41,
   "id": "88a85af0",
   "metadata": {},
   "outputs": [],
   "source": [
    "all_words_counter = Counter(all_words)"
   ]
  },
  {
   "cell_type": "code",
   "execution_count": 42,
   "id": "beb66524",
   "metadata": {},
   "outputs": [
    {
     "data": {
      "text/plain": [
       "[('derailleur', 48),\n",
       " ('cog', 36),\n",
       " ('adjuster', 29),\n",
       " ('outward', 21),\n",
       " ('largest', 21),\n",
       " ('shifter', 17),\n",
       " ('smallest', 17),\n",
       " ('lever', 15),\n",
       " ('clockwise', 14),\n",
       " ('inward', 10),\n",
       " ('pedal', 10),\n",
       " ('counterclockwise', 10),\n",
       " ('derailleurs', 9),\n",
       " ('loosen', 8),\n",
       " ('chainring', 8),\n",
       " ('chainrings', 7),\n",
       " ('linkage', 6),\n",
       " ('sprocket', 6),\n",
       " ('overview', 5),\n",
       " ('smaller', 5),\n",
       " ('dial', 4),\n",
       " ('increment', 4),\n",
       " ('clamp', 4),\n",
       " ('webvtt', 3),\n",
       " ('caption', 3),\n",
       " ('calvin', 3),\n",
       " ('jones', 3),\n",
       " ('pulley', 3),\n",
       " ('hex', 3),\n",
       " ('wrench', 3)]"
      ]
     },
     "execution_count": 42,
     "metadata": {},
     "output_type": "execute_result"
    }
   ],
   "source": [
    "all_words_counter.most_common(30)"
   ]
  },
  {
   "cell_type": "code",
   "execution_count": 9,
   "id": "10011685",
   "metadata": {},
   "outputs": [
    {
     "name": "stderr",
     "output_type": "stream",
     "text": [
      "Using China server backend.\n"
     ]
    }
   ],
   "source": [
    "import functools\n",
    "import translators as ts\n",
    "import eng_to_ipa as ipa\n",
    "\n",
    "@functools.lru_cache(maxsize=10000, typed=False)\n",
    "def get_words_trans(word: str, trans_vendor: str = \"alibaba\"):\n",
    "    if trans_vendor == \"alibaba\":\n",
    "        chn_meaning = ts.alibaba(word, from_language='en', to_language='zh')\n",
    "    else:\n",
    "        chn_meaning = \"\"\n",
    "    word_ipa = ipa.convert(word)\n",
    "    audio_url = \"https://dict.youdao.com/dictvoice?audio=\" + word\n",
    "    return (chn_meaning, word_ipa, audio_url)"
   ]
  },
  {
   "cell_type": "code",
   "execution_count": 43,
   "id": "f5f22da2",
   "metadata": {
    "scrolled": false
   },
   "outputs": [
    {
     "name": "stdout",
     "output_type": "stream",
     "text": [
      "derailleur : derailleur* : 变速器 : 48\n"
     ]
    },
    {
     "data": {
      "text/html": [
       "<video controls=\"\" name=\"media\" style=\"height: 80px;\"><source src=\"https://dict.youdao.com/dictvoice?audio=derailleur\" type=\"audio/mpeg\"></video>"
      ],
      "text/plain": [
       "<IPython.core.display.HTML object>"
      ]
     },
     "metadata": {},
     "output_type": "display_data"
    },
    {
     "name": "stdout",
     "output_type": "stream",
     "text": [
      "cog : kɔg : 齿轮 : 36\n"
     ]
    },
    {
     "data": {
      "text/html": [
       "<video controls=\"\" name=\"media\" style=\"height: 80px;\"><source src=\"https://dict.youdao.com/dictvoice?audio=cog\" type=\"audio/mpeg\"></video>"
      ],
      "text/plain": [
       "<IPython.core.display.HTML object>"
      ]
     },
     "metadata": {},
     "output_type": "display_data"
    },
    {
     "name": "stdout",
     "output_type": "stream",
     "text": [
      "adjuster : əˈʤəstər : 调节器 : 29\n"
     ]
    },
    {
     "data": {
      "text/html": [
       "<video controls=\"\" name=\"media\" style=\"height: 80px;\"><source src=\"https://dict.youdao.com/dictvoice?audio=adjuster\" type=\"audio/mpeg\"></video>"
      ],
      "text/plain": [
       "<IPython.core.display.HTML object>"
      ]
     },
     "metadata": {},
     "output_type": "display_data"
    },
    {
     "name": "stdout",
     "output_type": "stream",
     "text": [
      "outward : ˈaʊtwərd : 向外 : 21\n"
     ]
    },
    {
     "data": {
      "text/html": [
       "<video controls=\"\" name=\"media\" style=\"height: 80px;\"><source src=\"https://dict.youdao.com/dictvoice?audio=outward\" type=\"audio/mpeg\"></video>"
      ],
      "text/plain": [
       "<IPython.core.display.HTML object>"
      ]
     },
     "metadata": {},
     "output_type": "display_data"
    },
    {
     "name": "stdout",
     "output_type": "stream",
     "text": [
      "largest : ˈlɑrʤəst : 最大的 : 21\n"
     ]
    },
    {
     "data": {
      "text/html": [
       "<video controls=\"\" name=\"media\" style=\"height: 80px;\"><source src=\"https://dict.youdao.com/dictvoice?audio=largest\" type=\"audio/mpeg\"></video>"
      ],
      "text/plain": [
       "<IPython.core.display.HTML object>"
      ]
     },
     "metadata": {},
     "output_type": "display_data"
    },
    {
     "name": "stdout",
     "output_type": "stream",
     "text": [
      "shifter : ˈʃɪftər : 移位器 : 17\n"
     ]
    },
    {
     "data": {
      "text/html": [
       "<video controls=\"\" name=\"media\" style=\"height: 80px;\"><source src=\"https://dict.youdao.com/dictvoice?audio=shifter\" type=\"audio/mpeg\"></video>"
      ],
      "text/plain": [
       "<IPython.core.display.HTML object>"
      ]
     },
     "metadata": {},
     "output_type": "display_data"
    },
    {
     "name": "stdout",
     "output_type": "stream",
     "text": [
      "smallest : sˈmɔləst : 最小 : 17\n"
     ]
    },
    {
     "data": {
      "text/html": [
       "<video controls=\"\" name=\"media\" style=\"height: 80px;\"><source src=\"https://dict.youdao.com/dictvoice?audio=smallest\" type=\"audio/mpeg\"></video>"
      ],
      "text/plain": [
       "<IPython.core.display.HTML object>"
      ]
     },
     "metadata": {},
     "output_type": "display_data"
    },
    {
     "name": "stdout",
     "output_type": "stream",
     "text": [
      "lever : ˈlɛvər : 杠杆 : 15\n"
     ]
    },
    {
     "data": {
      "text/html": [
       "<video controls=\"\" name=\"media\" style=\"height: 80px;\"><source src=\"https://dict.youdao.com/dictvoice?audio=lever\" type=\"audio/mpeg\"></video>"
      ],
      "text/plain": [
       "<IPython.core.display.HTML object>"
      ]
     },
     "metadata": {},
     "output_type": "display_data"
    },
    {
     "name": "stdout",
     "output_type": "stream",
     "text": [
      "clockwise : ˈklɑkˌwaɪz : 顺时针方向 : 14\n"
     ]
    },
    {
     "data": {
      "text/html": [
       "<video controls=\"\" name=\"media\" style=\"height: 80px;\"><source src=\"https://dict.youdao.com/dictvoice?audio=clockwise\" type=\"audio/mpeg\"></video>"
      ],
      "text/plain": [
       "<IPython.core.display.HTML object>"
      ]
     },
     "metadata": {},
     "output_type": "display_data"
    },
    {
     "name": "stdout",
     "output_type": "stream",
     "text": [
      "inward : ˈɪnwərd : 向内 : 10\n"
     ]
    },
    {
     "data": {
      "text/html": [
       "<video controls=\"\" name=\"media\" style=\"height: 80px;\"><source src=\"https://dict.youdao.com/dictvoice?audio=inward\" type=\"audio/mpeg\"></video>"
      ],
      "text/plain": [
       "<IPython.core.display.HTML object>"
      ]
     },
     "metadata": {},
     "output_type": "display_data"
    },
    {
     "name": "stdout",
     "output_type": "stream",
     "text": [
      "pedal : ˈpɛdəl : 踏板 : 10\n"
     ]
    },
    {
     "data": {
      "text/html": [
       "<video controls=\"\" name=\"media\" style=\"height: 80px;\"><source src=\"https://dict.youdao.com/dictvoice?audio=pedal\" type=\"audio/mpeg\"></video>"
      ],
      "text/plain": [
       "<IPython.core.display.HTML object>"
      ]
     },
     "metadata": {},
     "output_type": "display_data"
    },
    {
     "name": "stdout",
     "output_type": "stream",
     "text": [
      "counterclockwise : ˌkaʊnərˈklɔkwaɪz : 逆时针方向 : 10\n"
     ]
    },
    {
     "data": {
      "text/html": [
       "<video controls=\"\" name=\"media\" style=\"height: 80px;\"><source src=\"https://dict.youdao.com/dictvoice?audio=counterclockwise\" type=\"audio/mpeg\"></video>"
      ],
      "text/plain": [
       "<IPython.core.display.HTML object>"
      ]
     },
     "metadata": {},
     "output_type": "display_data"
    },
    {
     "name": "stdout",
     "output_type": "stream",
     "text": [
      "derailleurs : derailleurs* : 脱轨器 : 9\n"
     ]
    },
    {
     "data": {
      "text/html": [
       "<video controls=\"\" name=\"media\" style=\"height: 80px;\"><source src=\"https://dict.youdao.com/dictvoice?audio=derailleurs\" type=\"audio/mpeg\"></video>"
      ],
      "text/plain": [
       "<IPython.core.display.HTML object>"
      ]
     },
     "metadata": {},
     "output_type": "display_data"
    },
    {
     "name": "stdout",
     "output_type": "stream",
     "text": [
      "loosen : ˈlusən : 松开 : 8\n"
     ]
    },
    {
     "data": {
      "text/html": [
       "<video controls=\"\" name=\"media\" style=\"height: 80px;\"><source src=\"https://dict.youdao.com/dictvoice?audio=loosen\" type=\"audio/mpeg\"></video>"
      ],
      "text/plain": [
       "<IPython.core.display.HTML object>"
      ]
     },
     "metadata": {},
     "output_type": "display_data"
    },
    {
     "name": "stdout",
     "output_type": "stream",
     "text": [
      "chainring : chainring* : 链环 : 8\n"
     ]
    },
    {
     "data": {
      "text/html": [
       "<video controls=\"\" name=\"media\" style=\"height: 80px;\"><source src=\"https://dict.youdao.com/dictvoice?audio=chainring\" type=\"audio/mpeg\"></video>"
      ],
      "text/plain": [
       "<IPython.core.display.HTML object>"
      ]
     },
     "metadata": {},
     "output_type": "display_data"
    },
    {
     "name": "stdout",
     "output_type": "stream",
     "text": [
      "chainrings : chainrings* : 链环 : 7\n"
     ]
    },
    {
     "data": {
      "text/html": [
       "<video controls=\"\" name=\"media\" style=\"height: 80px;\"><source src=\"https://dict.youdao.com/dictvoice?audio=chainrings\" type=\"audio/mpeg\"></video>"
      ],
      "text/plain": [
       "<IPython.core.display.HTML object>"
      ]
     },
     "metadata": {},
     "output_type": "display_data"
    },
    {
     "name": "stdout",
     "output_type": "stream",
     "text": [
      "linkage : ˈlɪŋkɪʤ : 连接 : 6\n"
     ]
    },
    {
     "data": {
      "text/html": [
       "<video controls=\"\" name=\"media\" style=\"height: 80px;\"><source src=\"https://dict.youdao.com/dictvoice?audio=linkage\" type=\"audio/mpeg\"></video>"
      ],
      "text/plain": [
       "<IPython.core.display.HTML object>"
      ]
     },
     "metadata": {},
     "output_type": "display_data"
    },
    {
     "name": "stdout",
     "output_type": "stream",
     "text": [
      "sprocket : ˈsprɑkət : 链轮 : 6\n"
     ]
    },
    {
     "data": {
      "text/html": [
       "<video controls=\"\" name=\"media\" style=\"height: 80px;\"><source src=\"https://dict.youdao.com/dictvoice?audio=sprocket\" type=\"audio/mpeg\"></video>"
      ],
      "text/plain": [
       "<IPython.core.display.HTML object>"
      ]
     },
     "metadata": {},
     "output_type": "display_data"
    },
    {
     "name": "stdout",
     "output_type": "stream",
     "text": [
      "overview : ˈoʊvərvˌju : 概述 : 5\n"
     ]
    },
    {
     "data": {
      "text/html": [
       "<video controls=\"\" name=\"media\" style=\"height: 80px;\"><source src=\"https://dict.youdao.com/dictvoice?audio=overview\" type=\"audio/mpeg\"></video>"
      ],
      "text/plain": [
       "<IPython.core.display.HTML object>"
      ]
     },
     "metadata": {},
     "output_type": "display_data"
    },
    {
     "name": "stdout",
     "output_type": "stream",
     "text": [
      "smaller : sˈmɔlər : 更小 : 5\n"
     ]
    },
    {
     "data": {
      "text/html": [
       "<video controls=\"\" name=\"media\" style=\"height: 80px;\"><source src=\"https://dict.youdao.com/dictvoice?audio=smaller\" type=\"audio/mpeg\"></video>"
      ],
      "text/plain": [
       "<IPython.core.display.HTML object>"
      ]
     },
     "metadata": {},
     "output_type": "display_data"
    },
    {
     "name": "stdout",
     "output_type": "stream",
     "text": [
      "dial : daɪəl : 刻度盘 : 4\n"
     ]
    },
    {
     "data": {
      "text/html": [
       "<video controls=\"\" name=\"media\" style=\"height: 80px;\"><source src=\"https://dict.youdao.com/dictvoice?audio=dial\" type=\"audio/mpeg\"></video>"
      ],
      "text/plain": [
       "<IPython.core.display.HTML object>"
      ]
     },
     "metadata": {},
     "output_type": "display_data"
    },
    {
     "name": "stdout",
     "output_type": "stream",
     "text": [
      "increment : ˈɪnkrəmənt : 增量 : 4\n"
     ]
    },
    {
     "data": {
      "text/html": [
       "<video controls=\"\" name=\"media\" style=\"height: 80px;\"><source src=\"https://dict.youdao.com/dictvoice?audio=increment\" type=\"audio/mpeg\"></video>"
      ],
      "text/plain": [
       "<IPython.core.display.HTML object>"
      ]
     },
     "metadata": {},
     "output_type": "display_data"
    },
    {
     "name": "stdout",
     "output_type": "stream",
     "text": [
      "clamp : klæmp : 夹具 : 4\n"
     ]
    },
    {
     "data": {
      "text/html": [
       "<video controls=\"\" name=\"media\" style=\"height: 80px;\"><source src=\"https://dict.youdao.com/dictvoice?audio=clamp\" type=\"audio/mpeg\"></video>"
      ],
      "text/plain": [
       "<IPython.core.display.HTML object>"
      ]
     },
     "metadata": {},
     "output_type": "display_data"
    },
    {
     "name": "stdout",
     "output_type": "stream",
     "text": [
      "webvtt : webvtt* : webvtt : 3\n"
     ]
    },
    {
     "data": {
      "text/html": [
       "<video controls=\"\" name=\"media\" style=\"height: 80px;\"><source src=\"https://dict.youdao.com/dictvoice?audio=webvtt\" type=\"audio/mpeg\"></video>"
      ],
      "text/plain": [
       "<IPython.core.display.HTML object>"
      ]
     },
     "metadata": {},
     "output_type": "display_data"
    },
    {
     "name": "stdout",
     "output_type": "stream",
     "text": [
      "caption : ˈkæpʃən : 说明 : 3\n"
     ]
    },
    {
     "data": {
      "text/html": [
       "<video controls=\"\" name=\"media\" style=\"height: 80px;\"><source src=\"https://dict.youdao.com/dictvoice?audio=caption\" type=\"audio/mpeg\"></video>"
      ],
      "text/plain": [
       "<IPython.core.display.HTML object>"
      ]
     },
     "metadata": {},
     "output_type": "display_data"
    },
    {
     "name": "stdout",
     "output_type": "stream",
     "text": [
      "calvin : ˈkælvɪn : 卡尔文 : 3\n"
     ]
    },
    {
     "data": {
      "text/html": [
       "<video controls=\"\" name=\"media\" style=\"height: 80px;\"><source src=\"https://dict.youdao.com/dictvoice?audio=calvin\" type=\"audio/mpeg\"></video>"
      ],
      "text/plain": [
       "<IPython.core.display.HTML object>"
      ]
     },
     "metadata": {},
     "output_type": "display_data"
    },
    {
     "name": "stdout",
     "output_type": "stream",
     "text": [
      "jones : ʤoʊnz : 琼斯 : 3\n"
     ]
    },
    {
     "data": {
      "text/html": [
       "<video controls=\"\" name=\"media\" style=\"height: 80px;\"><source src=\"https://dict.youdao.com/dictvoice?audio=jones\" type=\"audio/mpeg\"></video>"
      ],
      "text/plain": [
       "<IPython.core.display.HTML object>"
      ]
     },
     "metadata": {},
     "output_type": "display_data"
    },
    {
     "name": "stdout",
     "output_type": "stream",
     "text": [
      "pulley : ˈpʊli : 滑轮 : 3\n"
     ]
    },
    {
     "data": {
      "text/html": [
       "<video controls=\"\" name=\"media\" style=\"height: 80px;\"><source src=\"https://dict.youdao.com/dictvoice?audio=pulley\" type=\"audio/mpeg\"></video>"
      ],
      "text/plain": [
       "<IPython.core.display.HTML object>"
      ]
     },
     "metadata": {},
     "output_type": "display_data"
    },
    {
     "name": "stdout",
     "output_type": "stream",
     "text": [
      "hex : hɛks : 十六进制 : 3\n"
     ]
    },
    {
     "data": {
      "text/html": [
       "<video controls=\"\" name=\"media\" style=\"height: 80px;\"><source src=\"https://dict.youdao.com/dictvoice?audio=hex\" type=\"audio/mpeg\"></video>"
      ],
      "text/plain": [
       "<IPython.core.display.HTML object>"
      ]
     },
     "metadata": {},
     "output_type": "display_data"
    },
    {
     "name": "stdout",
     "output_type": "stream",
     "text": [
      "wrench : rɛnʧ : 扳手 : 3\n"
     ]
    },
    {
     "data": {
      "text/html": [
       "<video controls=\"\" name=\"media\" style=\"height: 80px;\"><source src=\"https://dict.youdao.com/dictvoice?audio=wrench\" type=\"audio/mpeg\"></video>"
      ],
      "text/plain": [
       "<IPython.core.display.HTML object>"
      ]
     },
     "metadata": {},
     "output_type": "display_data"
    },
    {
     "name": "stdout",
     "output_type": "stream",
     "text": [
      "slack : slæk : 松弛 : 3\n"
     ]
    },
    {
     "data": {
      "text/html": [
       "<video controls=\"\" name=\"media\" style=\"height: 80px;\"><source src=\"https://dict.youdao.com/dictvoice?audio=slack\" type=\"audio/mpeg\"></video>"
      ],
      "text/plain": [
       "<IPython.core.display.HTML object>"
      ]
     },
     "metadata": {},
     "output_type": "display_data"
    },
    {
     "name": "stdout",
     "output_type": "stream",
     "text": [
      "pinch : pɪnʧ : 捏 : 3\n"
     ]
    },
    {
     "data": {
      "text/html": [
       "<video controls=\"\" name=\"media\" style=\"height: 80px;\"><source src=\"https://dict.youdao.com/dictvoice?audio=pinch\" type=\"audio/mpeg\"></video>"
      ],
      "text/plain": [
       "<IPython.core.display.HTML object>"
      ]
     },
     "metadata": {},
     "output_type": "display_data"
    },
    {
     "name": "stdout",
     "output_type": "stream",
     "text": [
      "millimeter : ˈmɪləˌmitər : 毫米 : 3\n"
     ]
    },
    {
     "data": {
      "text/html": [
       "<video controls=\"\" name=\"media\" style=\"height: 80px;\"><source src=\"https://dict.youdao.com/dictvoice?audio=millimeter\" type=\"audio/mpeg\"></video>"
      ],
      "text/plain": [
       "<IPython.core.display.HTML object>"
      ]
     },
     "metadata": {},
     "output_type": "display_data"
    },
    {
     "name": "stdout",
     "output_type": "stream",
     "text": [
      "shorten : ˈʃɔrtən : 缩短 : 3\n"
     ]
    },
    {
     "data": {
      "text/html": [
       "<video controls=\"\" name=\"media\" style=\"height: 80px;\"><source src=\"https://dict.youdao.com/dictvoice?audio=shorten\" type=\"audio/mpeg\"></video>"
      ],
      "text/plain": [
       "<IPython.core.display.HTML object>"
      ]
     },
     "metadata": {},
     "output_type": "display_data"
    },
    {
     "name": "stdout",
     "output_type": "stream",
     "text": [
      "lengthen : ˈlɛŋθən : 加长 : 3\n"
     ]
    },
    {
     "data": {
      "text/html": [
       "<video controls=\"\" name=\"media\" style=\"height: 80px;\"><source src=\"https://dict.youdao.com/dictvoice?audio=lengthen\" type=\"audio/mpeg\"></video>"
      ],
      "text/plain": [
       "<IPython.core.display.HTML object>"
      ]
     },
     "metadata": {},
     "output_type": "display_data"
    },
    {
     "name": "stdout",
     "output_type": "stream",
     "text": [
      "spoke : spoʊk : 辐条 : 2\n"
     ]
    },
    {
     "data": {
      "text/html": [
       "<video controls=\"\" name=\"media\" style=\"height: 80px;\"><source src=\"https://dict.youdao.com/dictvoice?audio=spoke\" type=\"audio/mpeg\"></video>"
      ],
      "text/plain": [
       "<IPython.core.display.HTML object>"
      ]
     },
     "metadata": {},
     "output_type": "display_data"
    },
    {
     "name": "stdout",
     "output_type": "stream",
     "text": [
      "screwdriver : ˈskruˌdraɪvər : 螺丝刀 : 2\n"
     ]
    },
    {
     "data": {
      "text/html": [
       "<video controls=\"\" name=\"media\" style=\"height: 80px;\"><source src=\"https://dict.youdao.com/dictvoice?audio=screwdriver\" type=\"audio/mpeg\"></video>"
      ],
      "text/plain": [
       "<IPython.core.display.HTML object>"
      ]
     },
     "metadata": {},
     "output_type": "display_data"
    },
    {
     "name": "stdout",
     "output_type": "stream",
     "text": [
      "hanger : ˈhæŋər : 衣架 : 2\n"
     ]
    },
    {
     "data": {
      "text/html": [
       "<video controls=\"\" name=\"media\" style=\"height: 80px;\"><source src=\"https://dict.youdao.com/dictvoice?audio=hanger\" type=\"audio/mpeg\"></video>"
      ],
      "text/plain": [
       "<IPython.core.display.HTML object>"
      ]
     },
     "metadata": {},
     "output_type": "display_data"
    },
    {
     "name": "stdout",
     "output_type": "stream",
     "text": [
      "alignment : əˈlaɪnmənt : 对齐 : 2\n"
     ]
    },
    {
     "data": {
      "text/html": [
       "<video controls=\"\" name=\"media\" style=\"height: 80px;\"><source src=\"https://dict.youdao.com/dictvoice?audio=alignment\" type=\"audio/mpeg\"></video>"
      ],
      "text/plain": [
       "<IPython.core.display.HTML object>"
      ]
     },
     "metadata": {},
     "output_type": "display_data"
    },
    {
     "name": "stdout",
     "output_type": "stream",
     "text": [
      "outermost : ˈaʊtərˌmoʊst : 最外层 : 2\n"
     ]
    },
    {
     "data": {
      "text/html": [
       "<video controls=\"\" name=\"media\" style=\"height: 80px;\"><source src=\"https://dict.youdao.com/dictvoice?audio=outermost\" type=\"audio/mpeg\"></video>"
      ],
      "text/plain": [
       "<IPython.core.display.HTML object>"
      ]
     },
     "metadata": {},
     "output_type": "display_data"
    },
    {
     "name": "stdout",
     "output_type": "stream",
     "text": [
      "purposely : ˈpərpəsli : 故意 : 2\n"
     ]
    },
    {
     "data": {
      "text/html": [
       "<video controls=\"\" name=\"media\" style=\"height: 80px;\"><source src=\"https://dict.youdao.com/dictvoice?audio=purposely\" type=\"audio/mpeg\"></video>"
      ],
      "text/plain": [
       "<IPython.core.display.HTML object>"
      ]
     },
     "metadata": {},
     "output_type": "display_data"
    },
    {
     "name": "stdout",
     "output_type": "stream",
     "text": [
      "inboard : ˈɪnˌbɔrd : 内侧 : 2\n"
     ]
    },
    {
     "data": {
      "text/html": [
       "<video controls=\"\" name=\"media\" style=\"height: 80px;\"><source src=\"https://dict.youdao.com/dictvoice?audio=inboard\" type=\"audio/mpeg\"></video>"
      ],
      "text/plain": [
       "<IPython.core.display.HTML object>"
      ]
     },
     "metadata": {},
     "output_type": "display_data"
    },
    {
     "name": "stdout",
     "output_type": "stream",
     "text": [
      "drivetrain : drivetrain* : 动力传动系统 : 2\n"
     ]
    },
    {
     "data": {
      "text/html": [
       "<video controls=\"\" name=\"media\" style=\"height: 80px;\"><source src=\"https://dict.youdao.com/dictvoice?audio=drivetrain\" type=\"audio/mpeg\"></video>"
      ],
      "text/plain": [
       "<IPython.core.display.HTML object>"
      ]
     },
     "metadata": {},
     "output_type": "display_data"
    },
    {
     "name": "stdout",
     "output_type": "stream",
     "text": [
      "gauge : geɪʤ : 仪表 : 2\n"
     ]
    },
    {
     "data": {
      "text/html": [
       "<video controls=\"\" name=\"media\" style=\"height: 80px;\"><source src=\"https://dict.youdao.com/dictvoice?audio=gauge\" type=\"audio/mpeg\"></video>"
      ],
      "text/plain": [
       "<IPython.core.display.HTML object>"
      ]
     },
     "metadata": {},
     "output_type": "display_data"
    },
    {
     "name": "stdout",
     "output_type": "stream",
     "text": [
      "adequately : ˈædəkwɪtli : 充分 : 2\n"
     ]
    },
    {
     "data": {
      "text/html": [
       "<video controls=\"\" name=\"media\" style=\"height: 80px;\"><source src=\"https://dict.youdao.com/dictvoice?audio=adequately\" type=\"audio/mpeg\"></video>"
      ],
      "text/plain": [
       "<IPython.core.display.HTML object>"
      ]
     },
     "metadata": {},
     "output_type": "display_data"
    },
    {
     "name": "stdout",
     "output_type": "stream",
     "text": [
      "troubleshoot : troubleshoot* : 故障排除 : 2\n"
     ]
    },
    {
     "data": {
      "text/html": [
       "<video controls=\"\" name=\"media\" style=\"height: 80px;\"><source src=\"https://dict.youdao.com/dictvoice?audio=troubleshoot\" type=\"audio/mpeg\"></video>"
      ],
      "text/plain": [
       "<IPython.core.display.HTML object>"
      ]
     },
     "metadata": {},
     "output_type": "display_data"
    },
    {
     "name": "stdout",
     "output_type": "stream",
     "text": [
      "teeth : tiθ : 牙齿 : 2\n"
     ]
    },
    {
     "data": {
      "text/html": [
       "<video controls=\"\" name=\"media\" style=\"height: 80px;\"><source src=\"https://dict.youdao.com/dictvoice?audio=teeth\" type=\"audio/mpeg\"></video>"
      ],
      "text/plain": [
       "<IPython.core.display.HTML object>"
      ]
     },
     "metadata": {},
     "output_type": "display_data"
    },
    {
     "name": "stdout",
     "output_type": "stream",
     "text": [
      "parallel : ˈpɛrəˌlɛl : 平行 : 2\n"
     ]
    },
    {
     "data": {
      "text/html": [
       "<video controls=\"\" name=\"media\" style=\"height: 80px;\"><source src=\"https://dict.youdao.com/dictvoice?audio=parallel\" type=\"audio/mpeg\"></video>"
      ],
      "text/plain": [
       "<IPython.core.display.HTML object>"
      ]
     },
     "metadata": {},
     "output_type": "display_data"
    },
    {
     "name": "stdout",
     "output_type": "stream",
     "text": [
      "rotate : ˈroʊˌteɪt : 旋转 : 2\n"
     ]
    },
    {
     "data": {
      "text/html": [
       "<video controls=\"\" name=\"media\" style=\"height: 80px;\"><source src=\"https://dict.youdao.com/dictvoice?audio=rotate\" type=\"audio/mpeg\"></video>"
      ],
      "text/plain": [
       "<IPython.core.display.HTML object>"
      ]
     },
     "metadata": {},
     "output_type": "display_data"
    },
    {
     "name": "stdout",
     "output_type": "stream",
     "text": [
      "taut : tɔt : 拉紧 : 2\n"
     ]
    },
    {
     "data": {
      "text/html": [
       "<video controls=\"\" name=\"media\" style=\"height: 80px;\"><source src=\"https://dict.youdao.com/dictvoice?audio=taut\" type=\"audio/mpeg\"></video>"
      ],
      "text/plain": [
       "<IPython.core.display.HTML object>"
      ]
     },
     "metadata": {},
     "output_type": "display_data"
    },
    {
     "name": "stdout",
     "output_type": "stream",
     "text": [
      "crank : kræŋk : 曲柄 : 2\n"
     ]
    },
    {
     "data": {
      "text/html": [
       "<video controls=\"\" name=\"media\" style=\"height: 80px;\"><source src=\"https://dict.youdao.com/dictvoice?audio=crank\" type=\"audio/mpeg\"></video>"
      ],
      "text/plain": [
       "<IPython.core.display.HTML object>"
      ]
     },
     "metadata": {},
     "output_type": "display_data"
    },
    {
     "name": "stdout",
     "output_type": "stream",
     "text": [
      "intentionally : ˌɪnˈtɛnʃənəli : 故意 : 2\n"
     ]
    },
    {
     "data": {
      "text/html": [
       "<video controls=\"\" name=\"media\" style=\"height: 80px;\"><source src=\"https://dict.youdao.com/dictvoice?audio=intentionally\" type=\"audio/mpeg\"></video>"
      ],
      "text/plain": [
       "<IPython.core.display.HTML object>"
      ]
     },
     "metadata": {},
     "output_type": "display_data"
    },
    {
     "name": "stdout",
     "output_type": "stream",
     "text": [
      "usable : ˈjuzəbəl : 可用 : 2\n"
     ]
    },
    {
     "data": {
      "text/html": [
       "<video controls=\"\" name=\"media\" style=\"height: 80px;\"><source src=\"https://dict.youdao.com/dictvoice?audio=usable\" type=\"audio/mpeg\"></video>"
      ],
      "text/plain": [
       "<IPython.core.display.HTML object>"
      ]
     },
     "metadata": {},
     "output_type": "display_data"
    },
    {
     "name": "stdout",
     "output_type": "stream",
     "text": [
      "flex : flɛks : 弯曲 : 2\n"
     ]
    },
    {
     "data": {
      "text/html": [
       "<video controls=\"\" name=\"media\" style=\"height: 80px;\"><source src=\"https://dict.youdao.com/dictvoice?audio=flex\" type=\"audio/mpeg\"></video>"
      ],
      "text/plain": [
       "<IPython.core.display.HTML object>"
      ]
     },
     "metadata": {},
     "output_type": "display_data"
    },
    {
     "name": "stdout",
     "output_type": "stream",
     "text": [
      "bracket : ˈbrækɪt : 支架 : 2\n"
     ]
    },
    {
     "data": {
      "text/html": [
       "<video controls=\"\" name=\"media\" style=\"height: 80px;\"><source src=\"https://dict.youdao.com/dictvoice?audio=bracket\" type=\"audio/mpeg\"></video>"
      ],
      "text/plain": [
       "<IPython.core.display.HTML object>"
      ]
     },
     "metadata": {},
     "output_type": "display_data"
    },
    {
     "name": "stdout",
     "output_type": "stream",
     "text": [
      "thumbs-up : thumbs-up* : 赞 : 2\n"
     ]
    },
    {
     "data": {
      "text/html": [
       "<video controls=\"\" name=\"media\" style=\"height: 80px;\"><source src=\"https://dict.youdao.com/dictvoice?audio=thumbs-up\" type=\"audio/mpeg\"></video>"
      ],
      "text/plain": [
       "<IPython.core.display.HTML object>"
      ]
     },
     "metadata": {},
     "output_type": "display_data"
    },
    {
     "name": "stdout",
     "output_type": "stream",
     "text": [
      "l-screw : l-screw* : 左螺钉 : 2\n"
     ]
    },
    {
     "data": {
      "text/html": [
       "<video controls=\"\" name=\"media\" style=\"height: 80px;\"><source src=\"https://dict.youdao.com/dictvoice?audio=l-screw\" type=\"audio/mpeg\"></video>"
      ],
      "text/plain": [
       "<IPython.core.display.HTML object>"
      ]
     },
     "metadata": {},
     "output_type": "display_data"
    },
    {
     "name": "stdout",
     "output_type": "stream",
     "text": [
      "optimal : ˈɑptɪməl : 最优 : 1\n"
     ]
    },
    {
     "data": {
      "text/html": [
       "<video controls=\"\" name=\"media\" style=\"height: 80px;\"><source src=\"https://dict.youdao.com/dictvoice?audio=optimal\" type=\"audio/mpeg\"></video>"
      ],
      "text/plain": [
       "<IPython.core.display.HTML object>"
      ]
     },
     "metadata": {},
     "output_type": "display_data"
    },
    {
     "name": "stdout",
     "output_type": "stream",
     "text": [
      "outlook : ˈaʊˌtlʊk : 展望 : 1\n"
     ]
    },
    {
     "data": {
      "text/html": [
       "<video controls=\"\" name=\"media\" style=\"height: 80px;\"><source src=\"https://dict.youdao.com/dictvoice?audio=outlook\" type=\"audio/mpeg\"></video>"
      ],
      "text/plain": [
       "<IPython.core.display.HTML object>"
      ]
     },
     "metadata": {},
     "output_type": "display_data"
    },
    {
     "name": "stdout",
     "output_type": "stream",
     "text": [
      "pas : pɑz : pas : 1\n"
     ]
    },
    {
     "data": {
      "text/html": [
       "<video controls=\"\" name=\"media\" style=\"height: 80px;\"><source src=\"https://dict.youdao.com/dictvoice?audio=pas\" type=\"audio/mpeg\"></video>"
      ],
      "text/plain": [
       "<IPython.core.display.HTML object>"
      ]
     },
     "metadata": {},
     "output_type": "display_data"
    },
    {
     "name": "stdout",
     "output_type": "stream",
     "text": [
      "predetermine : ˌpridɪˈtərmən : 预先确定 : 1\n"
     ]
    },
    {
     "data": {
      "text/html": [
       "<video controls=\"\" name=\"media\" style=\"height: 80px;\"><source src=\"https://dict.youdao.com/dictvoice?audio=predetermine\" type=\"audio/mpeg\"></video>"
      ],
      "text/plain": [
       "<IPython.core.display.HTML object>"
      ]
     },
     "metadata": {},
     "output_type": "display_data"
    },
    {
     "name": "stdout",
     "output_type": "stream",
     "text": [
      "unmarked : ənˈmɑrkt : 无标记 : 1\n"
     ]
    },
    {
     "data": {
      "text/html": [
       "<video controls=\"\" name=\"media\" style=\"height: 80px;\"><source src=\"https://dict.youdao.com/dictvoice?audio=unmarked\" type=\"audio/mpeg\"></video>"
      ],
      "text/plain": [
       "<IPython.core.display.HTML object>"
      ]
     },
     "metadata": {},
     "output_type": "display_data"
    },
    {
     "name": "stdout",
     "output_type": "stream",
     "text": [
      "actuate : ˈæˌkʧuˈeɪt : 驱动 : 1\n"
     ]
    },
    {
     "data": {
      "text/html": [
       "<video controls=\"\" name=\"media\" style=\"height: 80px;\"><source src=\"https://dict.youdao.com/dictvoice?audio=actuate\" type=\"audio/mpeg\"></video>"
      ],
      "text/plain": [
       "<IPython.core.display.HTML object>"
      ]
     },
     "metadata": {},
     "output_type": "display_data"
    },
    {
     "name": "stdout",
     "output_type": "stream",
     "text": [
      "easiest : ˈiziəst : 最简单的 : 1\n"
     ]
    },
    {
     "data": {
      "text/html": [
       "<video controls=\"\" name=\"media\" style=\"height: 80px;\"><source src=\"https://dict.youdao.com/dictvoice?audio=easiest\" type=\"audio/mpeg\"></video>"
      ],
      "text/plain": [
       "<IPython.core.display.HTML object>"
      ]
     },
     "metadata": {},
     "output_type": "display_data"
    },
    {
     "name": "stdout",
     "output_type": "stream",
     "text": [
      "collectively : kəˈlɛktɪvli : 集体 : 1\n"
     ]
    },
    {
     "data": {
      "text/html": [
       "<video controls=\"\" name=\"media\" style=\"height: 80px;\"><source src=\"https://dict.youdao.com/dictvoice?audio=collectively\" type=\"audio/mpeg\"></video>"
      ],
      "text/plain": [
       "<IPython.core.display.HTML object>"
      ]
     },
     "metadata": {},
     "output_type": "display_data"
    },
    {
     "name": "stdout",
     "output_type": "stream",
     "text": [
      "overly : ˈoʊvərli : 过度 : 1\n"
     ]
    },
    {
     "data": {
      "text/html": [
       "<video controls=\"\" name=\"media\" style=\"height: 80px;\"><source src=\"https://dict.youdao.com/dictvoice?audio=overly\" type=\"audio/mpeg\"></video>"
      ],
      "text/plain": [
       "<IPython.core.display.HTML object>"
      ]
     },
     "metadata": {},
     "output_type": "display_data"
    },
    {
     "name": "stdout",
     "output_type": "stream",
     "text": [
      "tighter : ˈtaɪtər : 更紧 : 1\n"
     ]
    },
    {
     "data": {
      "text/html": [
       "<video controls=\"\" name=\"media\" style=\"height: 80px;\"><source src=\"https://dict.youdao.com/dictvoice?audio=tighter\" type=\"audio/mpeg\"></video>"
      ],
      "text/plain": [
       "<IPython.core.display.HTML object>"
      ]
     },
     "metadata": {},
     "output_type": "display_data"
    },
    {
     "name": "stdout",
     "output_type": "stream",
     "text": [
      "earlier : ˈərliər : 更早的 : 1\n"
     ]
    },
    {
     "data": {
      "text/html": [
       "<video controls=\"\" name=\"media\" style=\"height: 80px;\"><source src=\"https://dict.youdao.com/dictvoice?audio=earlier\" type=\"audio/mpeg\"></video>"
      ],
      "text/plain": [
       "<IPython.core.display.HTML object>"
      ]
     },
     "metadata": {},
     "output_type": "display_data"
    },
    {
     "name": "stdout",
     "output_type": "stream",
     "text": [
      "incremental : ˌɪnkrəˈmɛntəl : 增量 : 1\n"
     ]
    },
    {
     "data": {
      "text/html": [
       "<video controls=\"\" name=\"media\" style=\"height: 80px;\"><source src=\"https://dict.youdao.com/dictvoice?audio=incremental\" type=\"audio/mpeg\"></video>"
      ],
      "text/plain": [
       "<IPython.core.display.HTML object>"
      ]
     },
     "metadata": {},
     "output_type": "display_data"
    },
    {
     "name": "stdout",
     "output_type": "stream",
     "text": [
      "cadence : ˈkeɪdəns : 节奏 : 1\n"
     ]
    },
    {
     "data": {
      "text/html": [
       "<video controls=\"\" name=\"media\" style=\"height: 80px;\"><source src=\"https://dict.youdao.com/dictvoice?audio=cadence\" type=\"audio/mpeg\"></video>"
      ],
      "text/plain": [
       "<IPython.core.display.HTML object>"
      ]
     },
     "metadata": {},
     "output_type": "display_data"
    },
    {
     "name": "stdout",
     "output_type": "stream",
     "text": [
      "unthreaded : unthreaded* : 无线程 : 1\n"
     ]
    },
    {
     "data": {
      "text/html": [
       "<video controls=\"\" name=\"media\" style=\"height: 80px;\"><source src=\"https://dict.youdao.com/dictvoice?audio=unthreaded\" type=\"audio/mpeg\"></video>"
      ],
      "text/plain": [
       "<IPython.core.display.HTML object>"
      ]
     },
     "metadata": {},
     "output_type": "display_data"
    },
    {
     "name": "stdout",
     "output_type": "stream",
     "text": [
      "furthest : ˈfərθəst : 最远 : 1\n"
     ]
    },
    {
     "data": {
      "text/html": [
       "<video controls=\"\" name=\"media\" style=\"height: 80px;\"><source src=\"https://dict.youdao.com/dictvoice?audio=furthest\" type=\"audio/mpeg\"></video>"
      ],
      "text/plain": [
       "<IPython.core.display.HTML object>"
      ]
     },
     "metadata": {},
     "output_type": "display_data"
    },
    {
     "name": "stdout",
     "output_type": "stream",
     "text": [
      "fine-tune : fine-tune* : 微调 : 1\n"
     ]
    },
    {
     "data": {
      "text/html": [
       "<video controls=\"\" name=\"media\" style=\"height: 80px;\"><source src=\"https://dict.youdao.com/dictvoice?audio=fine-tune\" type=\"audio/mpeg\"></video>"
      ],
      "text/plain": [
       "<IPython.core.display.HTML object>"
      ]
     },
     "metadata": {},
     "output_type": "display_data"
    },
    {
     "name": "stdout",
     "output_type": "stream",
     "text": [
      "quarter-turn : quarter-turn* : 四分之一转弯 : 1\n"
     ]
    },
    {
     "data": {
      "text/html": [
       "<video controls=\"\" name=\"media\" style=\"height: 80px;\"><source src=\"https://dict.youdao.com/dictvoice?audio=quarter-turn\" type=\"audio/mpeg\"></video>"
      ],
      "text/plain": [
       "<IPython.core.display.HTML object>"
      ]
     },
     "metadata": {},
     "output_type": "display_data"
    },
    {
     "name": "stdout",
     "output_type": "stream",
     "text": [
      "next-to-largest : next-to-largest* : 第二大 : 1\n"
     ]
    },
    {
     "data": {
      "text/html": [
       "<video controls=\"\" name=\"media\" style=\"height: 80px;\"><source src=\"https://dict.youdao.com/dictvoice?audio=next-to-largest\" type=\"audio/mpeg\"></video>"
      ],
      "text/plain": [
       "<IPython.core.display.HTML object>"
      ]
     },
     "metadata": {},
     "output_type": "display_data"
    },
    {
     "name": "stdout",
     "output_type": "stream",
     "text": [
      "too-tight : too-tight* : 太紧了 : 1\n"
     ]
    },
    {
     "data": {
      "text/html": [
       "<video controls=\"\" name=\"media\" style=\"height: 80px;\"><source src=\"https://dict.youdao.com/dictvoice?audio=too-tight\" type=\"audio/mpeg\"></video>"
      ],
      "text/plain": [
       "<IPython.core.display.HTML object>"
      ]
     },
     "metadata": {},
     "output_type": "display_data"
    },
    {
     "name": "stdout",
     "output_type": "stream",
     "text": [
      "incrementally : ˌɪnkrəˈmɛntəˌli : 递增 : 1\n"
     ]
    },
    {
     "data": {
      "text/html": [
       "<video controls=\"\" name=\"media\" style=\"height: 80px;\"><source src=\"https://dict.youdao.com/dictvoice?audio=incrementally\" type=\"audio/mpeg\"></video>"
      ],
      "text/plain": [
       "<IPython.core.display.HTML object>"
      ]
     },
     "metadata": {},
     "output_type": "display_data"
    },
    {
     "name": "stdout",
     "output_type": "stream",
     "text": [
      "specification : ˌspɛsɪfɪˈkeɪʃən : 规格 : 1\n"
     ]
    },
    {
     "data": {
      "text/html": [
       "<video controls=\"\" name=\"media\" style=\"height: 80px;\"><source src=\"https://dict.youdao.com/dictvoice?audio=specification\" type=\"audio/mpeg\"></video>"
      ],
      "text/plain": [
       "<IPython.core.display.HTML object>"
      ]
     },
     "metadata": {},
     "output_type": "display_data"
    },
    {
     "name": "stdout",
     "output_type": "stream",
     "text": [
      "double-check : ˈdəbəˌlʧɛk : 仔细检查 : 1\n"
     ]
    },
    {
     "data": {
      "text/html": [
       "<video controls=\"\" name=\"media\" style=\"height: 80px;\"><source src=\"https://dict.youdao.com/dictvoice?audio=double-check\" type=\"audio/mpeg\"></video>"
      ],
      "text/plain": [
       "<IPython.core.display.HTML object>"
      ]
     },
     "metadata": {},
     "output_type": "display_data"
    },
    {
     "name": "stdout",
     "output_type": "stream",
     "text": [
      "discus : ˈdɪskəs : 铁饼 : 1\n"
     ]
    },
    {
     "data": {
      "text/html": [
       "<video controls=\"\" name=\"media\" style=\"height: 80px;\"><source src=\"https://dict.youdao.com/dictvoice?audio=discus\" type=\"audio/mpeg\"></video>"
      ],
      "text/plain": [
       "<IPython.core.display.HTML object>"
      ]
     },
     "metadata": {},
     "output_type": "display_data"
    },
    {
     "name": "stdout",
     "output_type": "stream",
     "text": [
      "applicable : ˈæpləkəbəl : 适用 : 1\n"
     ]
    },
    {
     "data": {
      "text/html": [
       "<video controls=\"\" name=\"media\" style=\"height: 80px;\"><source src=\"https://dict.youdao.com/dictvoice?audio=applicable\" type=\"audio/mpeg\"></video>"
      ],
      "text/plain": [
       "<IPython.core.display.HTML object>"
      ]
     },
     "metadata": {},
     "output_type": "display_data"
    },
    {
     "name": "stdout",
     "output_type": "stream",
     "text": [
      "intutive : intutive* : 直觉 : 1\n"
     ]
    },
    {
     "data": {
      "text/html": [
       "<video controls=\"\" name=\"media\" style=\"height: 80px;\"><source src=\"https://dict.youdao.com/dictvoice?audio=intutive\" type=\"audio/mpeg\"></video>"
      ],
      "text/plain": [
       "<IPython.core.display.HTML object>"
      ]
     },
     "metadata": {},
     "output_type": "display_data"
    },
    {
     "name": "stdout",
     "output_type": "stream",
     "text": [
      "easier : ˈiziər : 更简单 : 1\n"
     ]
    },
    {
     "data": {
      "text/html": [
       "<video controls=\"\" name=\"media\" style=\"height: 80px;\"><source src=\"https://dict.youdao.com/dictvoice?audio=easier\" type=\"audio/mpeg\"></video>"
      ],
      "text/plain": [
       "<IPython.core.display.HTML object>"
      ]
     },
     "metadata": {},
     "output_type": "display_data"
    },
    {
     "name": "stdout",
     "output_type": "stream",
     "text": [
      "adder : ˈædər : 加法器 : 1\n"
     ]
    },
    {
     "data": {
      "text/html": [
       "<video controls=\"\" name=\"media\" style=\"height: 80px;\"><source src=\"https://dict.youdao.com/dictvoice?audio=adder\" type=\"audio/mpeg\"></video>"
      ],
      "text/plain": [
       "<IPython.core.display.HTML object>"
      ]
     },
     "metadata": {},
     "output_type": "display_data"
    },
    {
     "name": "stdout",
     "output_type": "stream",
     "text": [
      "braze-on : braze-on* : 项目完结，系统自动填充内容 : 1\n"
     ]
    },
    {
     "data": {
      "text/html": [
       "<video controls=\"\" name=\"media\" style=\"height: 80px;\"><source src=\"https://dict.youdao.com/dictvoice?audio=braze-on\" type=\"audio/mpeg\"></video>"
      ],
      "text/plain": [
       "<IPython.core.display.HTML object>"
      ]
     },
     "metadata": {},
     "output_type": "display_data"
    },
    {
     "name": "stdout",
     "output_type": "stream",
     "text": [
      "rotational : roʊˈteɪʃənəl : 旋转 : 1\n"
     ]
    },
    {
     "data": {
      "text/html": [
       "<video controls=\"\" name=\"media\" style=\"height: 80px;\"><source src=\"https://dict.youdao.com/dictvoice?audio=rotational\" type=\"audio/mpeg\"></video>"
      ],
      "text/plain": [
       "<IPython.core.display.HTML object>"
      ]
     },
     "metadata": {},
     "output_type": "display_data"
    },
    {
     "name": "stdout",
     "output_type": "stream",
     "text": [
      "slacken : sˈlækən : slacken : 1\n"
     ]
    },
    {
     "data": {
      "text/html": [
       "<video controls=\"\" name=\"media\" style=\"height: 80px;\"><source src=\"https://dict.youdao.com/dictvoice?audio=slacken\" type=\"audio/mpeg\"></video>"
      ],
      "text/plain": [
       "<IPython.core.display.HTML object>"
      ]
     },
     "metadata": {},
     "output_type": "display_data"
    },
    {
     "name": "stdout",
     "output_type": "stream",
     "text": [
      "noticeable : ˈnoʊtəsəbəl : 引人注目 : 1\n"
     ]
    },
    {
     "data": {
      "text/html": [
       "<video controls=\"\" name=\"media\" style=\"height: 80px;\"><source src=\"https://dict.youdao.com/dictvoice?audio=noticeable\" type=\"audio/mpeg\"></video>"
      ],
      "text/plain": [
       "<IPython.core.display.HTML object>"
      ]
     },
     "metadata": {},
     "output_type": "display_data"
    },
    {
     "name": "stdout",
     "output_type": "stream",
     "text": [
      "chain-to-cage : chain-to-cage* : 链条到笼子 : 1\n"
     ]
    },
    {
     "data": {
      "text/html": [
       "<video controls=\"\" name=\"media\" style=\"height: 80px;\"><source src=\"https://dict.youdao.com/dictvoice?audio=chain-to-cage\" type=\"audio/mpeg\"></video>"
      ],
      "text/plain": [
       "<IPython.core.display.HTML object>"
      ]
     },
     "metadata": {},
     "output_type": "display_data"
    },
    {
     "name": "stdout",
     "output_type": "stream",
     "text": [
      "rethread : rethread* : 重新线程 : 1\n"
     ]
    },
    {
     "data": {
      "text/html": [
       "<video controls=\"\" name=\"media\" style=\"height: 80px;\"><source src=\"https://dict.youdao.com/dictvoice?audio=rethread\" type=\"audio/mpeg\"></video>"
      ],
      "text/plain": [
       "<IPython.core.display.HTML object>"
      ]
     },
     "metadata": {},
     "output_type": "display_data"
    },
    {
     "name": "stdout",
     "output_type": "stream",
     "text": [
      "wobble : ˈwɑbəl : 摇摆 : 1\n"
     ]
    },
    {
     "data": {
      "text/html": [
       "<video controls=\"\" name=\"media\" style=\"height: 80px;\"><source src=\"https://dict.youdao.com/dictvoice?audio=wobble\" type=\"audio/mpeg\"></video>"
      ],
      "text/plain": [
       "<IPython.core.display.HTML object>"
      ]
     },
     "metadata": {},
     "output_type": "display_data"
    },
    {
     "name": "stdout",
     "output_type": "stream",
     "text": [
      "simulate : ˈsɪmjəˌleɪt : 模拟 : 1\n"
     ]
    },
    {
     "data": {
      "text/html": [
       "<video controls=\"\" name=\"media\" style=\"height: 80px;\"><source src=\"https://dict.youdao.com/dictvoice?audio=simulate\" type=\"audio/mpeg\"></video>"
      ],
      "text/plain": [
       "<IPython.core.display.HTML object>"
      ]
     },
     "metadata": {},
     "output_type": "display_data"
    },
    {
     "name": "stdout",
     "output_type": "stream",
     "text": [
      "one-quarter : one-quarter* : 四分之一 : 1\n"
     ]
    },
    {
     "data": {
      "text/html": [
       "<video controls=\"\" name=\"media\" style=\"height: 80px;\"><source src=\"https://dict.youdao.com/dictvoice?audio=one-quarter\" type=\"audio/mpeg\"></video>"
      ],
      "text/plain": [
       "<IPython.core.display.HTML object>"
      ]
     },
     "metadata": {},
     "output_type": "display_data"
    },
    {
     "name": "stdout",
     "output_type": "stream",
     "text": [
      "systematically : ˌsɪstəˈmætɪkli : 系统地 : 1\n"
     ]
    },
    {
     "data": {
      "text/html": [
       "<video controls=\"\" name=\"media\" style=\"height: 80px;\"><source src=\"https://dict.youdao.com/dictvoice?audio=systematically\" type=\"audio/mpeg\"></video>"
      ],
      "text/plain": [
       "<IPython.core.display.HTML object>"
      ]
     },
     "metadata": {},
     "output_type": "display_data"
    },
    {
     "name": "stdout",
     "output_type": "stream",
     "text": [
      "half-turn : half-turn* : 半转弯 : 1\n"
     ]
    },
    {
     "data": {
      "text/html": [
       "<video controls=\"\" name=\"media\" style=\"height: 80px;\"><source src=\"https://dict.youdao.com/dictvoice?audio=half-turn\" type=\"audio/mpeg\"></video>"
      ],
      "text/plain": [
       "<IPython.core.display.HTML object>"
      ]
     },
     "metadata": {},
     "output_type": "display_data"
    },
    {
     "name": "stdout",
     "output_type": "stream",
     "text": [
      "large-to-large : large-to-large* : 大到大 : 1\n"
     ]
    },
    {
     "data": {
      "text/html": [
       "<video controls=\"\" name=\"media\" style=\"height: 80px;\"><source src=\"https://dict.youdao.com/dictvoice?audio=large-to-large\" type=\"audio/mpeg\"></video>"
      ],
      "text/plain": [
       "<IPython.core.display.HTML object>"
      ]
     },
     "metadata": {},
     "output_type": "display_data"
    },
    {
     "name": "stdout",
     "output_type": "stream",
     "text": [
      "small-to-small : small-to-small* : 小到小 : 1\n"
     ]
    },
    {
     "data": {
      "text/html": [
       "<video controls=\"\" name=\"media\" style=\"height: 80px;\"><source src=\"https://dict.youdao.com/dictvoice?audio=small-to-small\" type=\"audio/mpeg\"></video>"
      ],
      "text/plain": [
       "<IPython.core.display.HTML object>"
      ]
     },
     "metadata": {},
     "output_type": "display_data"
    },
    {
     "name": "stdout",
     "output_type": "stream",
     "text": [
      "rattle : ˈrætəl : 拨浪鼓 : 1\n"
     ]
    },
    {
     "data": {
      "text/html": [
       "<video controls=\"\" name=\"media\" style=\"height: 80px;\"><source src=\"https://dict.youdao.com/dictvoice?audio=rattle\" type=\"audio/mpeg\"></video>"
      ],
      "text/plain": [
       "<IPython.core.display.HTML object>"
      ]
     },
     "metadata": {},
     "output_type": "display_data"
    },
    {
     "name": "stdout",
     "output_type": "stream",
     "text": [
      "built-in : ˈbɪlˌtɪn : 内置 : 1\n"
     ]
    },
    {
     "data": {
      "text/html": [
       "<video controls=\"\" name=\"media\" style=\"height: 80px;\"><source src=\"https://dict.youdao.com/dictvoice?audio=built-in\" type=\"audio/mpeg\"></video>"
      ],
      "text/plain": [
       "<IPython.core.display.HTML object>"
      ]
     },
     "metadata": {},
     "output_type": "display_data"
    },
    {
     "name": "stdout",
     "output_type": "stream",
     "text": [
      "test-ridden : test-ridden* : 试穿 : 1\n"
     ]
    },
    {
     "data": {
      "text/html": [
       "<video controls=\"\" name=\"media\" style=\"height: 80px;\"><source src=\"https://dict.youdao.com/dictvoice?audio=test-ridden\" type=\"audio/mpeg\"></video>"
      ],
      "text/plain": [
       "<IPython.core.display.HTML object>"
      ]
     },
     "metadata": {},
     "output_type": "display_data"
    },
    {
     "name": "stdout",
     "output_type": "stream",
     "text": [
      "greater : ˈgreɪtər : 更大 : 1\n"
     ]
    },
    {
     "data": {
      "text/html": [
       "<video controls=\"\" name=\"media\" style=\"height: 80px;\"><source src=\"https://dict.youdao.com/dictvoice?audio=greater\" type=\"audio/mpeg\"></video>"
      ],
      "text/plain": [
       "<IPython.core.display.HTML object>"
      ]
     },
     "metadata": {},
     "output_type": "display_data"
    },
    {
     "name": "stdout",
     "output_type": "stream",
     "text": [
      "functionality : ˌfəŋkʃəˈnælɪti : 功能 : 1\n"
     ]
    },
    {
     "data": {
      "text/html": [
       "<video controls=\"\" name=\"media\" style=\"height: 80px;\"><source src=\"https://dict.youdao.com/dictvoice?audio=functionality\" type=\"audio/mpeg\"></video>"
      ],
      "text/plain": [
       "<IPython.core.display.HTML object>"
      ]
     },
     "metadata": {},
     "output_type": "display_data"
    },
    {
     "name": "stdout",
     "output_type": "stream",
     "text": [
      "parallelogram : parallelogram* : 平行四边形 : 1\n"
     ]
    },
    {
     "data": {
      "text/html": [
       "<video controls=\"\" name=\"media\" style=\"height: 80px;\"><source src=\"https://dict.youdao.com/dictvoice?audio=parallelogram\" type=\"audio/mpeg\"></video>"
      ],
      "text/plain": [
       "<IPython.core.display.HTML object>"
      ]
     },
     "metadata": {},
     "output_type": "display_data"
    },
    {
     "name": "stdout",
     "output_type": "stream",
     "text": [
      "mechanical-type : mechanical-type* : 机械式 : 1\n"
     ]
    },
    {
     "data": {
      "text/html": [
       "<video controls=\"\" name=\"media\" style=\"height: 80px;\"><source src=\"https://dict.youdao.com/dictvoice?audio=mechanical-type\" type=\"audio/mpeg\"></video>"
      ],
      "text/plain": [
       "<IPython.core.display.HTML object>"
      ]
     },
     "metadata": {},
     "output_type": "display_data"
    },
    {
     "name": "stdout",
     "output_type": "stream",
     "text": [
      "shift-ramps : shift-ramps* : 换挡坡道 : 1\n"
     ]
    },
    {
     "data": {
      "text/html": [
       "<video controls=\"\" name=\"media\" style=\"height: 80px;\"><source src=\"https://dict.youdao.com/dictvoice?audio=shift-ramps\" type=\"audio/mpeg\"></video>"
      ],
      "text/plain": [
       "<IPython.core.display.HTML object>"
      ]
     },
     "metadata": {},
     "output_type": "display_data"
    },
    {
     "name": "stdout",
     "output_type": "stream",
     "text": [
      "larger : ˈlɑrʤər : 更大 : 1\n"
     ]
    },
    {
     "data": {
      "text/html": [
       "<video controls=\"\" name=\"media\" style=\"height: 80px;\"><source src=\"https://dict.youdao.com/dictvoice?audio=larger\" type=\"audio/mpeg\"></video>"
      ],
      "text/plain": [
       "<IPython.core.display.HTML object>"
      ]
     },
     "metadata": {},
     "output_type": "display_data"
    },
    {
     "name": "stdout",
     "output_type": "stream",
     "text": [
      "amp : æmp : 安培 : 1\n"
     ]
    },
    {
     "data": {
      "text/html": [
       "<video controls=\"\" name=\"media\" style=\"height: 80px;\"><source src=\"https://dict.youdao.com/dictvoice?audio=amp\" type=\"audio/mpeg\"></video>"
      ],
      "text/plain": [
       "<IPython.core.display.HTML object>"
      ]
     },
     "metadata": {},
     "output_type": "display_data"
    },
    {
     "name": "stdout",
     "output_type": "stream",
     "text": [
      "h-screw : h-screw* : h螺钉 : 1\n"
     ]
    },
    {
     "data": {
      "text/html": [
       "<video controls=\"\" name=\"media\" style=\"height: 80px;\"><source src=\"https://dict.youdao.com/dictvoice?audio=h-screw\" type=\"audio/mpeg\"></video>"
      ],
      "text/plain": [
       "<IPython.core.display.HTML object>"
      ]
     },
     "metadata": {},
     "output_type": "display_data"
    },
    {
     "name": "stdout",
     "output_type": "stream",
     "text": [
      "h-limit : h-limit* : h极限 : 1\n"
     ]
    },
    {
     "data": {
      "text/html": [
       "<video controls=\"\" name=\"media\" style=\"height: 80px;\"><source src=\"https://dict.youdao.com/dictvoice?audio=h-limit\" type=\"audio/mpeg\"></video>"
      ],
      "text/plain": [
       "<IPython.core.display.HTML object>"
      ]
     },
     "metadata": {},
     "output_type": "display_data"
    },
    {
     "name": "stdout",
     "output_type": "stream",
     "text": [
      "movent : movent* : movent : 1\n"
     ]
    },
    {
     "data": {
      "text/html": [
       "<video controls=\"\" name=\"media\" style=\"height: 80px;\"><source src=\"https://dict.youdao.com/dictvoice?audio=movent\" type=\"audio/mpeg\"></video>"
      ],
      "text/plain": [
       "<IPython.core.display.HTML object>"
      ]
     },
     "metadata": {},
     "output_type": "display_data"
    },
    {
     "name": "stdout",
     "output_type": "stream",
     "text": [
      "pre-determined : pre-determined* : 预定 : 1\n"
     ]
    },
    {
     "data": {
      "text/html": [
       "<video controls=\"\" name=\"media\" style=\"height: 80px;\"><source src=\"https://dict.youdao.com/dictvoice?audio=pre-determined\" type=\"audio/mpeg\"></video>"
      ],
      "text/plain": [
       "<IPython.core.display.HTML object>"
      ]
     },
     "metadata": {},
     "output_type": "display_data"
    },
    {
     "name": "stdout",
     "output_type": "stream",
     "text": [
      "triple : ˈtrɪpəl : 三重 : 1\n"
     ]
    },
    {
     "data": {
      "text/html": [
       "<video controls=\"\" name=\"media\" style=\"height: 80px;\"><source src=\"https://dict.youdao.com/dictvoice?audio=triple\" type=\"audio/mpeg\"></video>"
      ],
      "text/plain": [
       "<IPython.core.display.HTML object>"
      ]
     },
     "metadata": {},
     "output_type": "display_data"
    },
    {
     "name": "stdout",
     "output_type": "stream",
     "text": [
      "crankset : crankset* : 曲柄组 : 1\n"
     ]
    },
    {
     "data": {
      "text/html": [
       "<video controls=\"\" name=\"media\" style=\"height: 80px;\"><source src=\"https://dict.youdao.com/dictvoice?audio=crankset\" type=\"audio/mpeg\"></video>"
      ],
      "text/plain": [
       "<IPython.core.display.HTML object>"
      ]
     },
     "metadata": {},
     "output_type": "display_data"
    },
    {
     "name": "stdout",
     "output_type": "stream",
     "text": [
      "youtube : ˈjuˌtub : youtube : 1\n"
     ]
    },
    {
     "data": {
      "text/html": [
       "<video controls=\"\" name=\"media\" style=\"height: 80px;\"><source src=\"https://dict.youdao.com/dictvoice?audio=youtube\" type=\"audio/mpeg\"></video>"
      ],
      "text/plain": [
       "<IPython.core.display.HTML object>"
      ]
     },
     "metadata": {},
     "output_type": "display_data"
    },
    {
     "name": "stdout",
     "output_type": "stream",
     "text": [
      "subscribe : səbˈskraɪb : 订阅 : 1\n"
     ]
    },
    {
     "data": {
      "text/html": [
       "<video controls=\"\" name=\"media\" style=\"height: 80px;\"><source src=\"https://dict.youdao.com/dictvoice?audio=subscribe\" type=\"audio/mpeg\"></video>"
      ],
      "text/plain": [
       "<IPython.core.display.HTML object>"
      ]
     },
     "metadata": {},
     "output_type": "display_data"
    },
    {
     "name": "stdout",
     "output_type": "stream",
     "text": [
      "latest : ˈleɪtəst : 最新 : 1\n"
     ]
    },
    {
     "data": {
      "text/html": [
       "<video controls=\"\" name=\"media\" style=\"height: 80px;\"><source src=\"https://dict.youdao.com/dictvoice?audio=latest\" type=\"audio/mpeg\"></video>"
      ],
      "text/plain": [
       "<IPython.core.display.HTML object>"
      ]
     },
     "metadata": {},
     "output_type": "display_data"
    }
   ],
   "source": [
    "results = []\n",
    "for (word, freq) in all_words_counter.most_common():\n",
    "    (chn_meaning, word_ipa, audio_url) = get_words_trans(word)\n",
    "    print(f'{word} : {word_ipa} : {chn_meaning} : {freq}')\n",
    "    results.append((word, word_ipa, chn_meaning))\n",
    "    display(HTML(f'<video controls=\"\" name=\"media\" style=\"height: 80px;\"><source src=\"{audio_url}\" type=\"audio/mpeg\"></video>'))\n",
    "\n",
    "# then import miscs/words.txt to ankis\n",
    "with open(\"miscs/words.txt\", 'w') as f:\n",
    "    for result in results:\n",
    "        f.writelines(f'{result[0]}\\t{result[1]}\\t{result[2]}\\n')\n",
    "    "
   ]
  },
  {
   "cell_type": "code",
   "execution_count": 118,
   "id": "ee0fbcb1",
   "metadata": {},
   "outputs": [
    {
     "data": {
      "text/plain": [
       "'ˈædəkwɪtli'"
      ]
     },
     "execution_count": 118,
     "metadata": {},
     "output_type": "execute_result"
    }
   ],
   "source": []
  },
  {
   "cell_type": "code",
   "execution_count": 117,
   "id": "f8b4a7d5",
   "metadata": {},
   "outputs": [
    {
     "data": {
      "text/plain": [
       "str"
      ]
     },
     "execution_count": 117,
     "metadata": {},
     "output_type": "execute_result"
    }
   ],
   "source": [
    "type(reuslt)"
   ]
  },
  {
   "cell_type": "code",
   "execution_count": null,
   "id": "5af466cb",
   "metadata": {},
   "outputs": [],
   "source": []
  }
 ],
 "metadata": {
  "kernelspec": {
   "display_name": "Python 3 (ipykernel)",
   "language": "python",
   "name": "python3"
  },
  "language_info": {
   "codemirror_mode": {
    "name": "ipython",
    "version": 3
   },
   "file_extension": ".py",
   "mimetype": "text/x-python",
   "name": "python",
   "nbconvert_exporter": "python",
   "pygments_lexer": "ipython3",
   "version": "3.8.2"
  }
 },
 "nbformat": 4,
 "nbformat_minor": 5
}
